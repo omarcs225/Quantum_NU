{
 "cells": [
  {
   "cell_type": "code",
   "execution_count": 2,
   "metadata": {},
   "outputs": [],
   "source": [
    "import qiskit\n",
    "from qiskit_aer import AerSimulator\n",
    "from qiskit import transpile, QuantumCircuit\n",
    "from qiskit_aer import noise\n",
    "from qiskit.quantum_info import Statevector\n",
    "import math\n",
    "from qiskit.visualization import plot_histogram, plot_state_city\n",
    "import time"
   ]
  },
  {
   "cell_type": "markdown",
   "metadata": {},
   "source": [
    "#### RACSimulator : Built on top of Qiskit Aer"
   ]
  },
  {
   "cell_type": "code",
   "execution_count": 46,
   "metadata": {},
   "outputs": [],
   "source": [
    "class RACSimulator(AerSimulator):\n",
    "    def __init__(self, method='statevector', configuration=None, properties=None, provider=None, target=None, **backend_options):\n",
    "        super().__init__(method=method)\n",
    "        self.initial_state = None\n",
    "\n",
    "    def run_and_keep(self, qc_i, shots=1024, noise=0, noise_model=None):\n",
    "        simulator=AerSimulator()\n",
    "        if noise == 0:\n",
    "            qc = QuantumCircuit(qc_i.num_qubits)\n",
    "            if self.initial_state != None:\n",
    "                qc.set_statevector(self.initial_state)\n",
    "            qc.compose(qc_i, inplace=True, front=False)\n",
    "            qc.save_statevector()\n",
    "            qc = transpile(qc, simulator)\n",
    "            result = simulator.run(qc, shots=shots).result()\n",
    "            output_state = result.get_statevector(qc)\n",
    "\n",
    "        elif noise == 1:\n",
    "            qc = QuantumCircuit(qc_i.num_qubits)\n",
    "            if self.initial_state != None:\n",
    "                qc.set_density_matrix(self.initial_state)\n",
    "            qc.compose(qc_i,inplace=True,front=False)\n",
    "            qc.save_density_matrix()\n",
    "            qc = transpile(qc, simulator)\n",
    "            result = simulator.run(qc, shots=shots, noise_model=noise_model).result()\n",
    "            output_state = result.data(0)['density_matrix']\n",
    "\n",
    "        self.initial_state = output_state\n",
    "\n",
    "        return result, output_state, qc\n",
    "    \n",
    "    def reset_state(self):\n",
    "        self.initial_state = None"
   ]
  },
  {
   "cell_type": "code",
   "execution_count": 42,
   "metadata": {},
   "outputs": [
    {
     "name": "stdout",
     "output_type": "stream",
     "text": [
      "11.674600071273744\n"
     ]
    },
    {
     "data": {
      "image/png": "[encoded data removed]",
      "text/plain": [
       "<Figure size 640x480 with 1 Axes>"
      ]
     },
     "execution_count": 42,
     "metadata": {},
     "output_type": "execute_result"
    }
   ],
   "source": [
    "noiseless_simulator = RACSimulator()\n",
    "\n",
    "qc1 = QuantumCircuit(2)\n",
    "qc1.h(0)\n",
    "qc1.cx(0, 1)\n",
    "\n",
    "\n",
    "a = time.perf_counter()\n",
    "result1, sv_1, qc1 = noiseless_simulator.run_and_keep(qc1)\n",
    "b = time.perf_counter()\n",
    "\n",
    "# print(a)\n",
    "# print(b)\n",
    "print((b - a)*1000)\n",
    "\n",
    "qc2 = QuantumCircuit(2,2)\n",
    "qc2.measure(0,0)\n",
    "qc2.measure(1,1)\n",
    "\n",
    "result2, sv_2, qc2 = noiseless_simulator.run_and_keep(qc2)\n",
    "\n",
    "# print(sv_1)\n",
    "# print(sv_2)\n",
    "# print(result2.data())\n",
    "\n",
    "# data = [result1.get_counts(),result2.get_counts()]\n",
    "# plot_histogram(data, legend=['counts before measurements','counts after measurements'] ,title='Historgam')\n",
    "plot_histogram(result2.get_counts())\n",
    "\n"
   ]
  },
  {
   "cell_type": "code",
   "execution_count": 48,
   "metadata": {},
   "outputs": [
    {
     "name": "stdout",
     "output_type": "stream",
     "text": [
      "{'11': 429, '00': 483, '10': 45, '01': 67}\n"
     ]
    },
    {
     "data": {
      "image/png": "[encoded data removed]",
      "text/plain": [
       "<Figure size 640x480 with 1 Axes>"
      ]
     },
     "execution_count": 48,
     "metadata": {},
     "output_type": "execute_result"
    }
   ],
   "source": [
    "noisy_simulator = RACSimulator(method='density_matrix')\n",
    "\n",
    "prob = 0.2\n",
    "error = noise.depolarizing_error(prob, 2)\n",
    "noise_model = noise.NoiseModel()\n",
    "noise_model.add_all_qubit_quantum_error(error, ['cx'])\n",
    "\n",
    "qc3 = QuantumCircuit(2)\n",
    "qc3.h(0)\n",
    "qc3.cx(0, 1)\n",
    "\n",
    "result3, sv_3, qc3 = noisy_simulator.run_and_keep(qc3, noise=1, noise_model=noise_model)\n",
    "\n",
    "qc4 = QuantumCircuit(2,2)\n",
    "qc4.measure(0,0)\n",
    "qc4.measure(1,1)\n",
    "\n",
    "result4, sv_4, qc4 = noisy_simulator.run_and_keep(qc4, noise=1, noise_model=noise_model)\n",
    "\n",
    "\n",
    "# print(sv_3)\n",
    "# print(sv_4)\n",
    "\n",
    "print(result4.get_counts())\n",
    "plot_histogram(result4.get_counts())\n",
    "# print(result3.data())\n",
    "\n",
    "# data = [result3.get_counts(),result4.get_counts()]\n",
    "# plot_histogram(data, legend=['counts before measurements','counts after measurements'] ,title='Historgam')\n",
    "\n",
    "\n",
    "\n",
    "\n"
   ]
  },
  {
   "cell_type": "markdown",
   "metadata": {},
   "source": [
    "#### TO DO \n",
    "\n",
    "- calc overhead of run_and_keep VS run \"huge difference\"\n",
    "- calc space complexity in terms of qubit (exp)\n",
    "- try approach 2 ****\n",
    "- more generic: simulators not only aer"
   ]
  },
  {
   "cell_type": "code",
   "execution_count": 49,
   "metadata": {},
   "outputs": [
    {
     "name": "stdout",
     "output_type": "stream",
     "text": [
      "1.2411000207066536\n"
     ]
    }
   ],
   "source": [
    "# NORMAL RUN COMPLEXITY\n",
    "sim = RACSimulator()\n",
    "\n",
    "qc3 = QuantumCircuit(2)\n",
    "qc3.h(0)\n",
    "qc3.cx(0, 1)\n",
    "\n",
    "c = time.perf_counter()\n",
    "result = sim.run(qc3,shots=1024).result()\n",
    "d = time.perf_counter()\n",
    "\n",
    "print((d-c)*1000)\n"
   ]
  }
 ],
 "metadata": {
  "kernelspec": {
   "display_name": "cwq",
   "language": "python",
   "name": "python3"
  },
  "language_info": {
   "codemirror_mode": {
    "name": "ipython",
    "version": 3
   },
   "file_extension": ".py",
   "mimetype": "text/x-python",
   "name": "python",
   "nbconvert_exporter": "python",
   "pygments_lexer": "ipython3",
   "version": "3.12.4"
  }
 },
 "nbformat": 4,
 "nbformat_minor": 2
}
