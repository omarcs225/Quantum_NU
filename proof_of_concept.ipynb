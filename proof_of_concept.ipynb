{
 "cells": [
  {
   "attachments": {
    "image-2.png": {
     "image/png": "[encoded data removed]"
    }
   },
   "cell_type": "markdown",
   "metadata": {},
   "source": [
    "#### Test Case\n",
    "![image-2.png](attachment:image-2.png)\n",
    "\n",
    "Tested and Working"
   ]
  },
  {
   "cell_type": "code",
   "execution_count": 1,
   "metadata": {},
   "outputs": [],
   "source": [
    "import qiskit\n",
    "from qiskit_aer import AerSimulator\n",
    "from qiskit import transpile, QuantumCircuit\n",
    "from qiskit_aer import noise\n",
    "from qiskit.quantum_info import Statevector\n",
    "import math\n",
    "from qiskit.visualization import plot_histogram, plot_state_city\n",
    "import time"
   ]
  },
  {
   "cell_type": "code",
   "execution_count": 2,
   "metadata": {},
   "outputs": [],
   "source": [
    "class RACSimulator(AerSimulator):\n",
    "    def __init__(self, method='statevector', configuration=None, properties=None, provider=None, target=None, **backend_options):\n",
    "        super().__init__(method=method)\n",
    "        self.initial_state = None\n",
    "\n",
    "    def run_and_keep(self, qc_i, shots=1024, noise=0, noise_model=None):\n",
    "        simulator=AerSimulator()\n",
    "        if noise == 0:\n",
    "            qc = QuantumCircuit(qc_i.num_qubits)\n",
    "            if self.initial_state != None:\n",
    "                qc.set_statevector(self.initial_state)\n",
    "            qc.compose(qc_i, inplace=True, front=False)\n",
    "            qc.save_statevector()\n",
    "            qc = transpile(qc, simulator)\n",
    "            result = simulator.run(qc, shots=shots).result()\n",
    "            output_state = result.get_statevector(qc)\n",
    "\n",
    "        elif noise == 1:\n",
    "            qc = QuantumCircuit(qc_i.num_qubits)\n",
    "            if self.initial_state != None:\n",
    "                qc.set_density_matrix(self.initial_state)\n",
    "            qc.compose(qc_i,inplace=True,front=False)\n",
    "            qc.save_density_matrix()\n",
    "            qc = transpile(qc, simulator)\n",
    "            result = simulator.run(qc, shots=shots, noise_model=noise_model).result()\n",
    "            output_state = result.data(0)['density_matrix']\n",
    "\n",
    "        self.initial_state = output_state\n",
    "\n",
    "        return result, output_state, qc"
   ]
  },
  {
   "cell_type": "code",
   "execution_count": 202,
   "metadata": {},
   "outputs": [
    {
     "name": "stdout",
     "output_type": "stream",
     "text": [
      "Statevector([ 0.70710678+0.j, -0.        +0.j,  0.        +0.j,\n",
      "             -0.70710678+0.j],\n",
      "            dims=(2, 2))\n"
     ]
    }
   ],
   "source": [
    "simulator = RACSimulator()\n",
    "\n",
    "qc1 = QuantumCircuit(2)\n",
    "qc1.h(0)\n",
    "qc1.cx(0,1)\n",
    "qc1.z(0)\n",
    "# qc1.save_statevector()\n",
    "# res = simulator.run(qc1, shots=1024).result()\n",
    "res_, final_state_, qc_ = simulator.run_and_keep(qc1, shots=1024)\n",
    "# final_state = res.get_statevector(qc1)\n",
    "print(final_state_)\n",
    "# qc1.draw('mpl')\n",
    "\n",
    "#OUTPUT: run | run_and_keep, outputs the same state vector (part one done)\n",
    "\n"
   ]
  },
  {
   "cell_type": "code",
   "execution_count": 204,
   "metadata": {},
   "outputs": [
    {
     "name": "stdout",
     "output_type": "stream",
     "text": [
      "Statevector([ 0.70710678+0.j, -0.        +0.j,  0.        +0.j,\n",
      "             -0.70710678+0.j],\n",
      "            dims=(2, 2))\n"
     ]
    }
   ],
   "source": [
    "simulator = RACSimulator()\n",
    "\n",
    "qc2 = QuantumCircuit(2)\n",
    "qc2.h(0)\n",
    "qc2.cx(0,1)\n",
    "\n",
    "result, sv1, qc2 = simulator.run_and_keep(qc2, shots=1024)\n",
    "\n",
    "qc3 = QuantumCircuit(2)\n",
    "qc3.z(0)\n",
    "\n",
    "result2, sv2, qc3 = simulator.run_and_keep(qc3, shots=1024)\n",
    "\n",
    "print(sv2)\n",
    "\n"
   ]
  }
 ],
 "metadata": {
  "kernelspec": {
   "display_name": "cwq",
   "language": "python",
   "name": "python3"
  },
  "language_info": {
   "codemirror_mode": {
    "name": "ipython",
    "version": 3
   },
   "file_extension": ".py",
   "mimetype": "text/x-python",
   "name": "python",
   "nbconvert_exporter": "python",
   "pygments_lexer": "ipython3",
   "version": "3.12.4"
  }
 },
 "nbformat": 4,
 "nbformat_minor": 2
}
