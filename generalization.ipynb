{
 "cells": [
  {
   "cell_type": "code",
   "execution_count": 13,
   "metadata": {},
   "outputs": [],
   "source": [
    "import qiskit\n",
    "from qiskit_aer import AerSimulator\n",
    "from qiskit import transpile, QuantumCircuit\n",
    "from qiskit_aer import noise\n",
    "from qiskit.quantum_info import Statevector\n",
    "import math\n",
    "from qiskit.visualization import plot_histogram, plot_state_city\n",
    "import time\n",
    "from qiskit_aer import Aer\n",
    "simulator = Aer.get_backend('qasm_simulator')"
   ]
  },
  {
   "cell_type": "markdown",
   "metadata": {},
   "source": [
    "Aer is qiskit simulator in general\n",
    "it has three types of backends.\n",
    "\n",
    "qasm_simulator: Simulates a quantum circuit using shot-based measurements (as if you’re running on real quantum hardware).\n",
    "statevector_simulator: Simulates the entire quantum state vector without measurements (useful for debugging and analysis).\n",
    "unitary_simulator: Simulates the unitary matrix that represents the quantum operations applied by the circuit."
   ]
  },
  {
   "cell_type": "code",
   "execution_count": 41,
   "metadata": {},
   "outputs": [],
   "source": [
    "# pylint: disable=no-member\n",
    "class CustomSimulator:\n",
    "    def __init__(self, method='qasm_simulator',initial_state=None):\n",
    "        # Initialize the backend based on the method\n",
    "        self.backend_name = method\n",
    "        self.backend = Aer.get_backend(self.backend_name)\n",
    "        self.initial_state = initial_state\n",
    "    def run_and_keep(self, qc_i, shots=1024, noise=0, noise_model=None):\n",
    "\n",
    "        if noise == 0:\n",
    "            qc = QuantumCircuit(qc_i.num_qubits)\n",
    "            \n",
    "            if self.initial_state != None:\n",
    "                qc.set_statevector(self.initial_state)\n",
    "            qc.compose(qc_i, inplace=True, front=False)\n",
    "            qc.save_statevector()\n",
    "            qc = transpile(qc, self.backend)\n",
    "            result = self.backend.run(qc, shots=shots).result()\n",
    "            output_state = result.get_statevector(qc)\n",
    "\n",
    "        elif noise == 1:\n",
    "            qc = QuantumCircuit(qc_i.num_qubits)\n",
    "          \n",
    "            if self.initial_state != None:\n",
    "                qc.set_density_matrix(self.initial_state)\n",
    "            qc.compose(qc_i,inplace=True,front=False)\n",
    "            qc.save_density_matrix()\n",
    "            qc = transpile(qc, self.backend)\n",
    "            result = self.backend.run(qc, shots=shots, noise_model=noise_model).result()\n",
    "            output_state = result.data(0)['density_matrix']\n",
    "\n",
    "        self.initial_state = output_state\n",
    "\n",
    "        return result, output_state, qc\n",
    "    \n",
    "    def reset_state(self):\n",
    "        self.initial_state = None\n",
    "\n"
   ]
  },
  {
   "cell_type": "code",
   "execution_count": 58,
   "metadata": {},
   "outputs": [
    {
     "name": "stdout",
     "output_type": "stream",
     "text": [
      "90.99160000914708\n"
     ]
    },
    {
     "data": {
      "image/png": "[encoded data removed]",
      "text/plain": [
       "<Figure size 640x480 with 1 Axes>"
      ]
     },
     "execution_count": 58,
     "metadata": {},
     "output_type": "execute_result"
    }
   ],
   "source": [
    "qc1 = QuantumCircuit(2)\n",
    "qc1.h(0)\n",
    "qc1.cx(0, 1)\n",
    "noiseless_simulator = CustomSimulator(method='qasm_simulator')\n",
    "a = time.perf_counter()\n",
    "result1, sv_1, qc1 = noiseless_simulator.run_and_keep(qc1, shots=1024)\n",
    "b = time.perf_counter()\n",
    "# print(a)\n",
    "# print(b)\n",
    "print((b - a)*1000)\n",
    "qc2 = QuantumCircuit(2,2)\n",
    "qc2.measure(0,0)\n",
    "qc2.measure(1,1)\n",
    "result2, sv_2, qc2 = noiseless_simulator.run_and_keep(qc2)\n",
    "# print(sv_1)\n",
    "# print(sv_2)\n",
    "# print(result2.data())\n",
    "# data = [result1.get_counts(),result2.get_counts()]\n",
    "# plot_histogram(data, legend=['counts before measurements','counts after measurements'] ,title='Historgam')\n",
    "plot_histogram(result2.get_counts())"
   ]
  },
  {
   "cell_type": "code",
   "execution_count": 56,
   "metadata": {},
   "outputs": [
    {
     "name": "stdout",
     "output_type": "stream",
     "text": [
      "2.362700004596263\n"
     ]
    }
   ],
   "source": [
    "# NORMAL RUN COMPLEXITY\n",
    "\n",
    "sim = Aer.get_backend('qasm_simulator')\n",
    "qc3 = QuantumCircuit(2)\n",
    "qc3.h(0)\n",
    "qc3.cx(0, 1)\n",
    "\n",
    "c = time.perf_counter()\n",
    "result = sim.run(qc3,shots=1024).result()\n",
    "d = time.perf_counter()\n",
    "\n",
    "print((d-c)*1000)"
   ]
  }
 ],
 "metadata": {
  "kernelspec": {
   "display_name": "Python 3",
   "language": "python",
   "name": "python3"
  },
  "language_info": {
   "codemirror_mode": {
    "name": "ipython",
    "version": 3
   },
   "file_extension": ".py",
   "mimetype": "text/x-python",
   "name": "python",
   "nbconvert_exporter": "python",
   "pygments_lexer": "ipython3",
   "version": "3.12.4"
  }
 },
 "nbformat": 4,
 "nbformat_minor": 2
}
